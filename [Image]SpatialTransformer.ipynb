{
 "cells": [
  {
   "cell_type": "code",
   "execution_count": 1,
   "metadata": {},
   "outputs": [],
   "source": [
    "from __future__ import print_function\n",
    "import torch\n",
    "import torch.nn as nn\n",
    "import torch.nn.functional as F\n",
    "import torch.optim as optim\n",
    "import torchvision\n",
    "from torchvision import datasets, transforms\n",
    "import matplotlib.pyplot as plt\n",
    "import numpy as np"
   ]
  },
  {
   "cell_type": "code",
   "execution_count": 2,
   "metadata": {},
   "outputs": [],
   "source": [
    "plt.ion()"
   ]
  },
  {
   "cell_type": "markdown",
   "metadata": {},
   "source": [
    "## Loading the data"
   ]
  },
  {
   "cell_type": "code",
   "execution_count": 3,
   "metadata": {},
   "outputs": [],
   "source": [
    "device = torch.device(\"cuda\" if torch.cuda.is_available() else \"cpu\")"
   ]
  },
  {
   "cell_type": "code",
   "execution_count": 5,
   "metadata": {
    "scrolled": true
   },
   "outputs": [
    {
     "name": "stderr",
     "output_type": "stream",
     "text": [
      "\r",
      "0it [00:00, ?it/s]"
     ]
    },
    {
     "name": "stdout",
     "output_type": "stream",
     "text": [
      "Downloading http://yann.lecun.com/exdb/mnist/train-images-idx3-ubyte.gz to MNIST/raw/train-images-idx3-ubyte.gz\n"
     ]
    },
    {
     "name": "stderr",
     "output_type": "stream",
     "text": [
      "9920512it [00:04, 2338566.87it/s]                             \n"
     ]
    },
    {
     "name": "stdout",
     "output_type": "stream",
     "text": [
      "Extracting MNIST/raw/train-images-idx3-ubyte.gz to MNIST/raw\n"
     ]
    },
    {
     "name": "stderr",
     "output_type": "stream",
     "text": [
      "\r",
      "0it [00:00, ?it/s]"
     ]
    },
    {
     "name": "stdout",
     "output_type": "stream",
     "text": [
      "Downloading http://yann.lecun.com/exdb/mnist/train-labels-idx1-ubyte.gz to MNIST/raw/train-labels-idx1-ubyte.gz\n"
     ]
    },
    {
     "name": "stderr",
     "output_type": "stream",
     "text": [
      "32768it [00:00, 38483.99it/s]                           \n",
      "0it [00:00, ?it/s]"
     ]
    },
    {
     "name": "stdout",
     "output_type": "stream",
     "text": [
      "Extracting MNIST/raw/train-labels-idx1-ubyte.gz to MNIST/raw\n",
      "Downloading http://yann.lecun.com/exdb/mnist/t10k-images-idx3-ubyte.gz to MNIST/raw/t10k-images-idx3-ubyte.gz\n"
     ]
    },
    {
     "name": "stderr",
     "output_type": "stream",
     "text": [
      "1654784it [00:00, 1956087.84it/s]                            \n",
      "0it [00:00, ?it/s]"
     ]
    },
    {
     "name": "stdout",
     "output_type": "stream",
     "text": [
      "Extracting MNIST/raw/t10k-images-idx3-ubyte.gz to MNIST/raw\n",
      "Downloading http://yann.lecun.com/exdb/mnist/t10k-labels-idx1-ubyte.gz to MNIST/raw/t10k-labels-idx1-ubyte.gz\n"
     ]
    },
    {
     "name": "stderr",
     "output_type": "stream",
     "text": [
      "8192it [00:00, 16176.58it/s]            "
     ]
    },
    {
     "name": "stdout",
     "output_type": "stream",
     "text": [
      "Extracting MNIST/raw/t10k-labels-idx1-ubyte.gz to MNIST/raw\n",
      "Processing...\n",
      "Done!\n"
     ]
    },
    {
     "name": "stderr",
     "output_type": "stream",
     "text": [
      "\n"
     ]
    }
   ],
   "source": [
    "# Training dataset\n",
    "train_loader = torch.utils.data.DataLoader(\n",
    "                datasets.MNIST(root='', train=True, download=True,\n",
    "                               transform = transforms.Compose([\n",
    "                                   transforms.ToTensor(),\n",
    "                                   transforms.Normalize((0.1307,), (0.3081,))\n",
    "                               ])),\n",
    "                               batch_size = 64,\n",
    "                               shuffle = True,\n",
    "                               num_workers = 4\n",
    "                              )\n",
    "                \n",
    "\n",
    "# Test dataset\n",
    "test_loader = torch.utils.data.DataLoader(\n",
    "                datasets.MNIST(root='', train=False, \n",
    "                               transform = transforms.Compose([\n",
    "                                   transforms.ToTensor(),\n",
    "                                   transforms.Normalize((0.1307,), (0.3081,))\n",
    "                               ])),\n",
    "                               batch_size = 64,\n",
    "                               shuffle = True,\n",
    "                               num_workers = 4\n",
    "                              )"
   ]
  },
  {
   "cell_type": "markdown",
   "metadata": {},
   "source": [
    "## Define Network"
   ]
  },
  {
   "cell_type": "code",
   "execution_count": 15,
   "metadata": {},
   "outputs": [],
   "source": [
    "class Net(nn.Module):\n",
    "    def __init__(self):\n",
    "        super(Net, self).__init__()\n",
    "        \n",
    "        # Define network elements\n",
    "        self.conv1 = nn.Conv2d(1, 10, kernel_size=5)\n",
    "        self.conv2 = nn.Conv2d(10, 20, kernel_size=5)\n",
    "        self.conv2_drop = nn.Dropout2d()\n",
    "        self.fc1 = nn.Linear(320, 50)\n",
    "        self.fc2 = nn.Linear(50, 10)\n",
    "        \n",
    "        # Define spatial transformer localization-network\n",
    "        self.localization = nn.Sequential(\n",
    "                                nn.Conv2d(1, 8, kernel_size=7),\n",
    "                                nn.MaxPool2d(2, stride=2),\n",
    "                                nn.ReLU(True),\n",
    "                                nn.Conv2d(8, 10, kernel_size=5),\n",
    "                                nn.MaxPool2d(2, stride=2),\n",
    "                                nn.ReLU(True)\n",
    "        )\n",
    "        \n",
    "        # Regressor for the 3 * 2 affine network\n",
    "        self.fc_loc = nn.Sequential(\n",
    "                        nn.Linear(10*3*3, 32),\n",
    "                        nn.ReLU(True),\n",
    "                        nn.Linear(32, 3*2)\n",
    "        )\n",
    "        \n",
    "        # Initialize the weights / bias with indentity transformation\n",
    "        self.fc_loc[2].weight.data.zero_()\n",
    "        self.fc_loc[2].bias.data.copy_(torch.tensor([1, 0, 0, 0, 1, 0], dtype=torch.float))\n",
    "        \n",
    "        # Spatial transformer network forward function\n",
    "        # 데이터를 localization하고 affine grid를 구하는 과정\n",
    "    def stn(self, x):\n",
    "        xs = self.localization(x)\n",
    "        xs = xs.view(-1, 10*3*3)\n",
    "        theta = self.fc_loc(xs)\n",
    "        theta = theta.view(-1, 2, 3)\n",
    "\n",
    "        grid = F.affine_grid(theta, x.size())\n",
    "        x = F.grid_sample(x, grid)\n",
    "\n",
    "        return x\n",
    "                \n",
    "    def forward(self, x):\n",
    "        # 우선 Spatial Transformer에 태워서 정해진 위치를 강조한 데이터를 얻음\n",
    "        x = self.stn(x)\n",
    "        \n",
    "        # 그 데이터에 우리가 보통 태우는 CNN을 태운다\n",
    "        x = F.relu(F.max_pool2d(self.conv1(x), 2))\n",
    "        x = F.relu(F.max_pool2d(self.conv2_drop(self.conv2(x)), 2))\n",
    "        x = x.view(-1, 320)\n",
    "        x = F.relu(self.fc1(x))\n",
    "        x = F.dropout(x, training=self.training)\n",
    "        x = self.fc2(x)\n",
    "        return F.log_softmax(x, dim=1)\n",
    "        \n",
    "        \n",
    "model = Net().to(device)"
   ]
  },
  {
   "cell_type": "markdown",
   "metadata": {},
   "source": [
    "## Train model with SGD"
   ]
  },
  {
   "cell_type": "code",
   "execution_count": 23,
   "metadata": {},
   "outputs": [],
   "source": [
    "optimizer = optim.SGD(model.parameters(), lr=0.01)\n",
    "\n",
    "def train(epoch):\n",
    "    model.train()\n",
    "    for batch_idx, (data, target) in enumerate(train_loader):\n",
    "        data, target = data.to(device), target.to(device)\n",
    "        \n",
    "        optimizer.zero_grad()\n",
    "        output = model(data)\n",
    "        loss = F.nll_loss(output, target)\n",
    "        loss.backward()\n",
    "        optimizer.step()\n",
    "        \n",
    "        if batch_idx % 500 == 0:\n",
    "            print(\"Train Epoch : {} [{}/{} ({:.0f})]\\tLoss: {:.6f}\".format(\n",
    "                    epoch, batch_idx * len(data), len(train_loader.dataset), 100. * batch_idx / len(train_loader), loss.item()))\n",
    "            \n",
    "            \n",
    "def test():\n",
    "    with torch.no_grad():\n",
    "        model.eval()\n",
    "        test_loss = 0\n",
    "        correct = 0\n",
    "        for data, target in test_loader:\n",
    "            data, target = data.to(device), target.to(device)\n",
    "            output = model(data)\n",
    "            \n",
    "            test_loss += F.nll_loss(output, target, size_average=False).item()\n",
    "            pred = output.max(1, keepdim=True)[1]\n",
    "            correct += pred.eq(target.view_as(pred)).sum().item()\n",
    "            \n",
    "        test_loss /= len(test_loader.dataset)\n",
    "        print(\"\\nTest Set : Average loss : {:.4f}, Accuracy: {}/{} ({:.0f}%)\\n\".format(\n",
    "        test_loss, correct, len(test_loader.dataset), 100. * correct / len(test_loader.dataset)))"
   ]
  },
  {
   "cell_type": "code",
   "execution_count": 24,
   "metadata": {},
   "outputs": [
    {
     "name": "stdout",
     "output_type": "stream",
     "text": [
      "Train Epoch : 1 [0/60000 (0)]\tLoss: 0.193307\n",
      "Train Epoch : 1 [32000/60000 (53)]\tLoss: 0.210227\n",
      "\n",
      "Test Set : Average loss : 0.0945, Accuracy: 9733/10000 (97%)\n",
      "\n",
      "Train Epoch : 2 [0/60000 (0)]\tLoss: 0.341377\n",
      "Train Epoch : 2 [32000/60000 (53)]\tLoss: 0.085150\n",
      "\n",
      "Test Set : Average loss : 0.0739, Accuracy: 9764/10000 (98%)\n",
      "\n",
      "Train Epoch : 3 [0/60000 (0)]\tLoss: 0.116831\n",
      "Train Epoch : 3 [32000/60000 (53)]\tLoss: 0.289644\n",
      "\n",
      "Test Set : Average loss : 0.0717, Accuracy: 9794/10000 (98%)\n",
      "\n",
      "Train Epoch : 4 [0/60000 (0)]\tLoss: 0.171285\n",
      "Train Epoch : 4 [32000/60000 (53)]\tLoss: 0.098717\n",
      "\n",
      "Test Set : Average loss : 0.0563, Accuracy: 9823/10000 (98%)\n",
      "\n",
      "Train Epoch : 5 [0/60000 (0)]\tLoss: 0.084532\n",
      "Train Epoch : 5 [32000/60000 (53)]\tLoss: 0.211168\n",
      "\n",
      "Test Set : Average loss : 0.0589, Accuracy: 9821/10000 (98%)\n",
      "\n",
      "Train Epoch : 6 [0/60000 (0)]\tLoss: 0.258731\n",
      "Train Epoch : 6 [32000/60000 (53)]\tLoss: 0.168707\n",
      "\n",
      "Test Set : Average loss : 0.1026, Accuracy: 9671/10000 (97%)\n",
      "\n",
      "Train Epoch : 7 [0/60000 (0)]\tLoss: 0.098769\n",
      "Train Epoch : 7 [32000/60000 (53)]\tLoss: 0.027375\n",
      "\n",
      "Test Set : Average loss : 0.0496, Accuracy: 9851/10000 (99%)\n",
      "\n",
      "Train Epoch : 8 [0/60000 (0)]\tLoss: 0.230073\n",
      "Train Epoch : 8 [32000/60000 (53)]\tLoss: 0.122768\n",
      "\n",
      "Test Set : Average loss : 0.1111, Accuracy: 9655/10000 (97%)\n",
      "\n",
      "Train Epoch : 9 [0/60000 (0)]\tLoss: 0.189553\n",
      "Train Epoch : 9 [32000/60000 (53)]\tLoss: 0.196731\n",
      "\n",
      "Test Set : Average loss : 0.0483, Accuracy: 9857/10000 (99%)\n",
      "\n",
      "Train Epoch : 10 [0/60000 (0)]\tLoss: 0.050941\n",
      "Train Epoch : 10 [32000/60000 (53)]\tLoss: 0.029479\n",
      "\n",
      "Test Set : Average loss : 0.0512, Accuracy: 9846/10000 (98%)\n",
      "\n"
     ]
    }
   ],
   "source": [
    "for epoch in range(1, 10+1):\n",
    "    train(epoch)\n",
    "    test()"
   ]
  }
 ],
 "metadata": {
  "kernelspec": {
   "display_name": "Python 3",
   "language": "python",
   "name": "python3"
  },
  "language_info": {
   "codemirror_mode": {
    "name": "ipython",
    "version": 3
   },
   "file_extension": ".py",
   "mimetype": "text/x-python",
   "name": "python",
   "nbconvert_exporter": "python",
   "pygments_lexer": "ipython3",
   "version": "3.7.3"
  }
 },
 "nbformat": 4,
 "nbformat_minor": 2
}
